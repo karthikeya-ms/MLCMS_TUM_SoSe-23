{
 "cells": [
  {
   "cell_type": "markdown",
   "metadata": {},
   "source": [
    "This Notebook contains the code used in answering the questions of task 4. Each piece of code is listed under its question."
   ]
  },
  {
   "cell_type": "code",
   "execution_count": null,
   "metadata": {},
   "outputs": [],
   "source": [
    "import init_notebook\n",
    "import seaborn as sns\n",
    "import matplotlib.pyplot as plt\n",
    "import numpy as np\n",
    "from logistic_map import logistic_n_steps, plot_logistic_bifurcation\n",
    "from lorenz import solve_lorenz, plot_trajectory_diff, plot_lorenz_bifurcation_rho"
   ]
  },
  {
   "cell_type": "markdown",
   "metadata": {},
   "source": [
    "# Part 1: Logistic Map"
   ]
  },
  {
   "cell_type": "markdown",
   "metadata": {},
   "source": [
    "## Vary r from 0 to 2. Which bifurcations occur?"
   ]
  },
  {
   "cell_type": "code",
   "execution_count": null,
   "metadata": {},
   "outputs": [],
   "source": [
    "logistic_n_steps(x0=0.4, r=list(np.arange(0.0, 2.001, 0.2)), n=50, plot=True);"
   ]
  },
  {
   "cell_type": "markdown",
   "metadata": {},
   "source": [
    "## Vary r from 2 to 4. What happens?"
   ]
  },
  {
   "cell_type": "code",
   "execution_count": null,
   "metadata": {},
   "outputs": [],
   "source": [
    "logistic_n_steps(x0=0.4, r=list(np.arange(2.0, 4.001, 0.2)), n=50, plot=True);"
   ]
  },
  {
   "cell_type": "markdown",
   "metadata": {},
   "source": [
    "## Plot the bifurcation diagram"
   ]
  },
  {
   "cell_type": "code",
   "execution_count": null,
   "metadata": {},
   "outputs": [],
   "source": [
    "plot_logistic_bifurcation(0.4, 1000, 300)"
   ]
  },
  {
   "cell_type": "markdown",
   "metadata": {},
   "source": [
    "# Part 2: Lorenz Attractor"
   ]
  },
  {
   "cell_type": "markdown",
   "metadata": {},
   "source": [
    "## At the parameter values σ = 10, β = 8/3, and ρ = 28. What does the attractor look like?"
   ]
  },
  {
   "cell_type": "code",
   "execution_count": null,
   "metadata": {},
   "outputs": [],
   "source": [
    "sns.set_style(\"whitegrid\", {'axes.grid' : False})\n",
    "\n",
    "fig = plt.figure(figsize=(8,8), dpi=400)\n",
    "plt.suptitle(\"Lorenz System Trajectory\\n(sigma = 10, beta = 8/3, rho = 28)\")\n",
    "fig.subplots_adjust(top=0.9)\n",
    "solve_lorenz(ax=fig.add_subplot(1, 1, 1, projection='3d'));"
   ]
  },
  {
   "cell_type": "markdown",
   "metadata": {},
   "source": [
    "## Test the theory that perturbations in the initial condition will grow larger at an exponential rate by plotting another trajectory"
   ]
  },
  {
   "cell_type": "code",
   "execution_count": null,
   "metadata": {},
   "outputs": [],
   "source": [
    "fig = plt.figure(figsize=(16,8), dpi=400)\n",
    "fig.suptitle(\"Lorenz System Trajectory Before and After Perturbation\\n(sigma = 10, beta = 8/3, rho = 28)\")\n",
    "fig.subplots_adjust(top=1.0)\n",
    "xs, ys, zs, ts = solve_lorenz(ax=fig.add_subplot(1, 2, 1, projection='3d'))\n",
    "xs_p, ys_p, zs_p, _ =solve_lorenz(x_perturb=1e-8, ax=fig.add_subplot(1, 2, 2, projection='3d'))"
   ]
  },
  {
   "cell_type": "markdown",
   "metadata": {},
   "source": [
    "## At what time is the difference between the points on the trajectory larger than 1?"
   ]
  },
  {
   "cell_type": "code",
   "execution_count": null,
   "metadata": {},
   "outputs": [],
   "source": [
    "xs, ys, zs, ts = solve_lorenz(t=np.arange(0.0, 1000, 3), plot=False)\n",
    "xs_p, ys_p, zs_p, _ = solve_lorenz(t=np.arange(0.0, 1000, 3), x_perturb=1e-8, plot=False)\n",
    "\n",
    "fig = plt.figure(figsize=(16,8))\n",
    "ax=fig.add_subplot(1, 1, 1)\n",
    "diff = plot_trajectory_diff(xs, ys, zs, xs_p, ys_p, zs_p, ts,ax=ax, title=\"Trajectory Distance Over Time (Original Vs Perturbed)\", horizontal=1.0);\n",
    "ax.yaxis.set_ticks(np.arange(0, diff.max(), 2.0));\n",
    "ax.xaxis.set_ticks(np.arange(0, ts.max(), 50.0));\n"
   ]
  },
  {
   "cell_type": "code",
   "execution_count": null,
   "metadata": {},
   "outputs": [],
   "source": [
    "fig = plt.figure(figsize=(16,8))\n",
    "ax=fig.add_subplot(1, 1, 1)\n",
    "diff = plot_trajectory_diff(xs, ys, zs, xs_p, ys_p, zs_p, ts,ax=ax, title=\"Time of Crossing 1.0 Distance (Original Vs Perturbed)\", horizontal=1.0);\n",
    "ax.xaxis.set_ticks(np.arange(0, ts.max(), 1.0));\n",
    "ax.yaxis.set_ticks(np.arange(0, diff.max(), 2.0));\n",
    "ax.set_xlim(0, 50);\n",
    "ax.set_ylim(0, 35);"
   ]
  },
  {
   "cell_type": "markdown",
   "metadata": {},
   "source": [
    "## Change the parameter ρ to the value 0.5 and again compute and plot the two trajectories. What is the difference in terms of the sensitivity to the initial conditions?"
   ]
  },
  {
   "cell_type": "code",
   "execution_count": null,
   "metadata": {},
   "outputs": [],
   "source": [
    "fig = plt.figure(figsize=(16,10))\n",
    "fig.suptitle(\"Lorenz System Trajectory Before and After Perturbation\\n(sigma = 10, beta = 8/3, rho = 0.5)\")\n",
    "fig.subplots_adjust(top=1.15)\n",
    "solve_lorenz(rho=0.5, ax=fig.add_subplot(1, 2, 1, projection='3d'));\n",
    "solve_lorenz(x_perturb=1e-8, rho=0.5, ax=fig.add_subplot(1, 2, 2, projection='3d'));"
   ]
  },
  {
   "cell_type": "markdown",
   "metadata": {},
   "source": [
    "## Is there a bifurcation (or multiple ones) between the value 0.5 and 28? Why, or why not"
   ]
  },
  {
   "cell_type": "code",
   "execution_count": null,
   "metadata": {},
   "outputs": [],
   "source": [
    "plot_lorenz_bifurcation_rho(rho =np.arange(0.5, 28, 0.1));"
   ]
  }
 ],
 "metadata": {
  "kernelspec": {
   "display_name": "MLCMS_GroupI_EX4",
   "language": "python",
   "name": "python3"
  },
  "language_info": {
   "codemirror_mode": {
    "name": "ipython",
    "version": 3
   },
   "file_extension": ".py",
   "mimetype": "text/x-python",
   "name": "python",
   "nbconvert_exporter": "python",
   "pygments_lexer": "ipython3"
  }
 },
 "nbformat": 4,
 "nbformat_minor": 2
}
